{
 "metadata": {
  "language_info": {
   "codemirror_mode": {
    "name": "ipython",
    "version": 3
   },
   "file_extension": ".py",
   "mimetype": "text/x-python",
   "name": "python",
   "nbconvert_exporter": "python",
   "pygments_lexer": "ipython3",
   "version": "3.8.3-final"
  },
  "orig_nbformat": 2,
  "kernelspec": {
   "name": "Python 3.8.3 64-bit ('base': conda)",
   "display_name": "Python 3.8.3 64-bit ('base': conda)",
   "metadata": {
    "interpreter": {
     "hash": "dca0ade3e726a953b501b15e8e990130d2b7799f14cfd9f4271676035ebe5511"
    }
   }
  }
 },
 "nbformat": 4,
 "nbformat_minor": 2,
 "cells": [
  {
   "source": [
    "## Financial Planning"
   ],
   "cell_type": "markdown",
   "metadata": {}
  },
  {
   "cell_type": "code",
   "execution_count": 20,
   "metadata": {},
   "outputs": [],
   "source": [
    "# Initial Imports\n",
    "import os\n",
    "import requests\n",
    "import pandas as pd\n",
    "from dotenv import load_dotenv\n",
    "import alpaca_trade_api as tradeapi\n",
    "from MCForecastTools import MCSimulation\n",
    "import json"
   ]
  },
  {
   "cell_type": "code",
   "execution_count": 21,
   "metadata": {},
   "outputs": [],
   "source": [
    "# Load .env environment variables\n",
    "load_dotenv()\n",
    "\n",
    "# Set Alpaca API key and secret key\n",
    "alpaca_api_key = os.getenv(\"ALPACA_API_KEY\")\n",
    "alpaca_secret_key = os.getenv(\"ALPACA_SECRET_KEY\")\n",
    "\n",
    "alpaca = tradeapi.REST(\n",
    "    alpaca_api_key,\n",
    "    alpaca_secret_key,\n",
    "    api_version = \"v2\"\n",
    ")"
   ]
  },
  {
   "source": [
    "### Part 1 - Personal Finance Planner\n",
    "\n",
    "**Collect crypto prices using the `requests` library**"
   ],
   "cell_type": "markdown",
   "metadata": {}
  },
  {
   "cell_type": "code",
   "execution_count": 22,
   "metadata": {},
   "outputs": [],
   "source": [
    "# Set current amount of crypto assets\n",
    "BTC_assets = 1.2\n",
    "ETH_assets = 5.3"
   ]
  },
  {
   "cell_type": "code",
   "execution_count": 23,
   "metadata": {},
   "outputs": [],
   "source": [
    "#Crypto API URLs\n",
    "btc_url = \"https://api.alternative.me/v2/ticker/Bitcoin/?convert=CAD\"\n",
    "eth_url = \"https://api.alternative.me/v2/ticker/Ethereum/?convert=CAD\""
   ]
  },
  {
   "cell_type": "code",
   "execution_count": 41,
   "metadata": {},
   "outputs": [
    {
     "output_type": "stream",
     "name": "stdout",
     "text": [
      "The current value of your 1.2 BTH is $13685.38\nThe current value of your 5.3 ETH is $2001.76\n"
     ]
    }
   ],
   "source": [
    "# Fetch current BTC price\n",
    "current_btc_price_req = requests.get(btc_url).json()\n",
    "#print(json.dumps(current_btc_price_req, indent = 4)) \n",
    "current_btc_price = current_btc_price_req[\"data\"][\"1\"][\"quotes\"][\"USD\"][\"price\"]\n",
    "#print(current_btc_price)  \n",
    "\n",
    "# Fetch current ETH price\n",
    "current_eth_price_req = requests.get(eth_url).json()\n",
    "#print(json.dumps(current_eth_price_req, indent = 4)). \n",
    "current_eth_price = current_eth_price_req[\"data\"][\"1027\"][\"quotes\"][\"USD\"][\"price\"]\n",
    "#print(current_eth_price).\n",
    "\n",
    "# Compute current value of crypto assets\n",
    "current_btc_value = BTC_assets * current_btc_price\n",
    "current_eth_value = ETH_assets * current_eth_price\n",
    "\n",
    "# Print current crypto wallet balance\n",
    "print(f\"The current value of your {BTC_assets} BTH is ${current_btc_value:0.2f}\")\n",
    "print(f\"The current value of your {ETH_assets} ETH is ${current_eth_value:0.2f}\")"
   ]
  },
  {
   "source": [
    "** Collect Investments data using Alpaca: `SPY` (stocks) and `AGG` (bonds)**"
   ],
   "cell_type": "markdown",
   "metadata": {}
  },
  {
   "cell_type": "code",
   "execution_count": 42,
   "metadata": {},
   "outputs": [],
   "source": [
    "# Current amount of shares\n",
    "spy_shares = 50\n",
    "agg_shares = 200"
   ]
  },
  {
   "cell_type": "code",
   "execution_count": 69,
   "metadata": {},
   "outputs": [
    {
     "output_type": "stream",
     "name": "stdout",
     "text": [
      "Current AGG closing price: $118.04\nCurrent SPY closing price: $347.97\n"
     ]
    }
   ],
   "source": [
    "# Format current date as ISO format\n",
    "current_date = pd.Timestamp(\"now\", tz = \"America/New_York\").isoformat()\n",
    "\n",
    "# Set tickers\n",
    "tickers = [\"AGG\", \"SPY\"]\n",
    "\n",
    "# Set timeframe to 1 day for Alpaca API\n",
    "timeframe = \"1D\"\n",
    "\n",
    "# Get current closing prices for SPY and AGG\n",
    "ticker_data = alpaca.get_barset(\n",
    "    tickers,\n",
    "    timeframe,\n",
    "    start = current_date,\n",
    "    end = current_date\n",
    ").df\n",
    "\n",
    "agg_close = ticker_data[\"AGG\"][\"close\"][\"2020-10-14\"]\n",
    "spy_close = ticker_data[\"SPY\"][\"close\"][\"2020-10-14\"]\n",
    "\n",
    "# Print AGG and SPY close price\n",
    "print(f\"Current AGG closing price: ${agg_close}\")\n",
    "print(f\"Current SPY closing price: ${spy_close}\")"
   ]
  },
  {
   "cell_type": "code",
   "execution_count": 71,
   "metadata": {},
   "outputs": [
    {
     "output_type": "stream",
     "name": "stdout",
     "text": [
      "The current value of your 50 SPY shares is $17398.50\nThe current value of your 200 AGG shares is $23608.00\n"
     ]
    }
   ],
   "source": [
    "# Compute the current value of shares\n",
    "current_spy_value = spy_shares * spy_close\n",
    "current_agg_value = agg_shares * agg_close\n",
    "\n",
    "# Print current value of shares\n",
    "print(f\"The current value of your {spy_shares} SPY shares is ${current_spy_value:0.2f}\")\n",
    "print(f\"The current value of your {agg_shares} AGG shares is ${current_agg_value:0.2f}\")"
   ]
  },
  {
   "cell_type": "code",
   "execution_count": null,
   "metadata": {},
   "outputs": [],
   "source": []
  }
 ]
}